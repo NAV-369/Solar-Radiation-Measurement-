{
 "cells": [
  {
   "cell_type": "markdown",
   "metadata": {},
   "source": [
    "### summary_statistics"
   ]
  },
  {
   "cell_type": "code",
   "execution_count": null,
   "metadata": {},
   "outputs": [],
   "source": [
    "import pandas as pd\n",
    "\n",
    "def calculate_summary_statistics(data):\n",
    "    \"\"\"\n",
    "    Calculate mean, median, standard deviation, and other stats for numeric columns.\n",
    "    \"\"\"\n",
    "    stats = data.describe(include='all')\n",
    "    print(stats)\n",
    "    return stats"
   ]
  },
  {
   "cell_type": "markdown",
   "metadata": {},
   "source": [
    "### data_quality_checks"
   ]
  },
  {
   "cell_type": "code",
   "execution_count": null,
   "metadata": {},
   "outputs": [],
   "source": [
    "def check_data_quality(data):\n",
    "    \"\"\"\n",
    "    Check for missing values, outliers, and incorrect entries.\n",
    "    \"\"\"\n",
    "    print(\"Missing Values:\\n\", data.isnull().sum())\n",
    "    print(\"\\nNegative Values Check:\")\n",
    "    for col in data.select_dtypes(include=['float', 'int']):\n",
    "        print(f\"{col}: {(data[col] < 0).sum()} negative values\")"
   ]
  },
  {
   "cell_type": "markdown",
   "metadata": {},
   "source": [
    "### time_series_analysis\n"
   ]
  },
  {
   "cell_type": "code",
   "execution_count": null,
   "metadata": {},
   "outputs": [],
   "source": [
    "import matplotlib.pyplot as plt\n",
    "\n",
    "def plot_time_series(data, columns, time_column='timestamp'):\n",
    "    \"\"\"\n",
    "    Plot time series data for the specified columns.\n",
    "    \"\"\"\n",
    "    for col in columns:\n",
    "        plt.figure(figsize=(10, 6))\n",
    "        plt.plot(data[time_column], data[col], label=col)\n",
    "        plt.title(f\"Time Series of {col}\")\n",
    "        plt.xlabel(\"Time\")\n",
    "        plt.ylabel(col)\n",
    "        plt.legend()\n",
    "        plt.show()"
   ]
  },
  {
   "cell_type": "markdown",
   "metadata": {},
   "source": [
    "### correlation_analysis"
   ]
  },
  {
   "cell_type": "code",
   "execution_count": null,
   "metadata": {},
   "outputs": [],
   "source": [
    "import seaborn as sns\n",
    "import matplotlib.pyplot as plt\n",
    "\n",
    "def plot_correlation_matrix(data, columns):\n",
    "    \"\"\"\n",
    "    Plot a correlation matrix for specified columns.\n",
    "    \"\"\"\n",
    "    correlation = data[columns].corr()\n",
    "    plt.figure(figsize=(10, 8))\n",
    "    sns.heatmap(correlation, annot=True, cmap='coolwarm')\n",
    "    plt.title(\"Correlation Matrix\")\n",
    "    plt.show()"
   ]
  },
  {
   "cell_type": "markdown",
   "metadata": {},
   "source": [
    "### wind_temp_analysis"
   ]
  },
  {
   "cell_type": "code",
   "execution_count": null,
   "metadata": {},
   "outputs": [],
   "source": [
    "import matplotlib.pyplot as plt\n",
    "\n",
    "def analyze_wind_and_temperature(data):\n",
    "    \"\"\"\n",
    "    Analyze wind trends and temperature influences.\n",
    "    \"\"\"\n",
    "    plt.figure(figsize=(8, 6))\n",
    "    plt.scatter(data['WS'], data['TModA'], alpha=0.5, label='WS vs TModA')\n",
    "    plt.scatter(data['WS'], data['TModB'], alpha=0.5, label='WS vs TModB')\n",
    "    plt.legend()\n",
    "    plt.title(\"Wind Speed vs Temperature\")\n",
    "    plt.xlabel(\"Wind Speed (WS)\")\n",
    "    plt.ylabel(\"Temperature\")\n",
    "    plt.show()"
   ]
  },
  {
   "cell_type": "markdown",
   "metadata": {},
   "source": [
    "### histograms_zscore"
   ]
  },
  {
   "cell_type": "code",
   "execution_count": null,
   "metadata": {},
   "outputs": [],
   "source": [
    "import numpy as np\n",
    "import matplotlib.pyplot as plt\n",
    "from scipy.stats import zscore\n",
    "\n",
    "def plot_histograms(data, columns):\n",
    "    \"\"\"\n",
    "    Plot histograms for specified columns.\n",
    "    \"\"\"\n",
    "    for col in columns:\n",
    "        plt.figure()\n",
    "        plt.hist(data[col], bins=20, alpha=0.7, label=col)\n",
    "        plt.title(f\"Histogram of {col}\")\n",
    "        plt.xlabel(col)\n",
    "        plt.ylabel(\"Frequency\")\n",
    "        plt.show()\n",
    "\n",
    "def calculate_z_scores(data, column):\n",
    "    \"\"\"\n",
    "    Calculate Z-scores for a column.\n",
    "    \"\"\"\n",
    "    return zscore(data[column])"
   ]
  },
  {
   "cell_type": "markdown",
   "metadata": {},
   "source": [
    "### bubble_charts"
   ]
  },
  {
   "cell_type": "code",
   "execution_count": null,
   "metadata": {},
   "outputs": [],
   "source": [
    "import matplotlib.pyplot as plt\n",
    "\n",
    "def plot_bubble_chart(data, x, y, size_col, color_col):\n",
    "    \"\"\"\n",
    "    Plot a bubble chart to explore relationships between variables.\n",
    "    \"\"\"\n",
    "    plt.figure(figsize=(10, 6))\n",
    "    plt.scatter(data[x], data[y], s=data[size_col]*10, c=data[color_col], alpha=0.5, cmap='viridis')\n",
    "    plt.colorbar(label=color_col)\n",
    "    plt.xlabel(x)\n",
    "    plt.ylabel(y)\n",
    "    plt.title(f\"Bubble Chart: {x} vs {y} (size={size_col})\")\n",
    "    plt.show()"
   ]
  },
  {
   "cell_type": "markdown",
   "metadata": {},
   "source": [
    "### data_cleaning"
   ]
  },
  {
   "cell_type": "code",
   "execution_count": null,
   "metadata": {},
   "outputs": [],
   "source": [
    "def clean_data(data):\n",
    "    \"\"\"\n",
    "    Handle missing values and anomalies.\n",
    "    \"\"\"\n",
    "    data = data.dropna()\n",
    "    print(\"Null values dropped.\")\n",
    "    return data"
   ]
  },
  {
   "cell_type": "code",
   "execution_count": 1,
   "metadata": {},
   "outputs": [
    {
     "name": "stdout",
     "output_type": "stream",
     "text": [
      "3.9.21 (main, Dec  3 2024, 17:50:13) \n",
      "[Clang 16.0.0 (clang-1600.0.26.4)]\n"
     ]
    }
   ],
   "source": [
    "import sys\n",
    "print(sys.version)"
   ]
  }
 ],
 "metadata": {
  "kernelspec": {
   "display_name": "week0-env",
   "language": "python",
   "name": "python3"
  },
  "language_info": {
   "codemirror_mode": {
    "name": "ipython",
    "version": 3
   },
   "file_extension": ".py",
   "mimetype": "text/x-python",
   "name": "python",
   "nbconvert_exporter": "python",
   "pygments_lexer": "ipython3",
   "version": "3.9.21"
  }
 },
 "nbformat": 4,
 "nbformat_minor": 2
}
